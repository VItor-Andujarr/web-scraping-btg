{
 "cells": [
  {
   "cell_type": "code",
   "execution_count": 12,
   "metadata": {
    "pycharm": {
     "name": "#%%\n"
    }
   },
   "outputs": [
    {
     "data": {
      "text/plain": "'C:\\\\Users\\\\Vitor\\\\DataspellProjects\\\\dsProject\\\\Challenge'"
     },
     "execution_count": 12,
     "metadata": {},
     "output_type": "execute_result"
    }
   ],
   "source": [
    "import os\n",
    "os.getcwd()"
   ]
  },
  {
   "cell_type": "code",
   "execution_count": 13,
   "metadata": {
    "pycharm": {
     "name": "#%%\n"
    }
   },
   "outputs": [
    {
     "name": "stderr",
     "output_type": "stream",
     "text": [
      "C:\\Users\\Vitor\\AppData\\Local\\Temp\\ipykernel_42024\\2227365819.py:5: DeprecationWarning: executable_path has been deprecated, please pass in a Service object\n",
      "  driver = webdriver.Chrome('/Users/Vitor/Downloads/chromedriver', options=chrome_options)\n"
     ]
    }
   ],
   "source": [
    "from selenium import webdriver\n",
    "from selenium.webdriver.chrome.options import Options  \n",
    "chrome_options = Options()\n",
    "\n",
    "driver = webdriver.Chrome('/Users/Vitor/Downloads/chromedriver', options=chrome_options)\n",
    "driver.implicitly_wait(10)"
   ]
  },
  {
   "cell_type": "code",
   "execution_count": 14,
   "metadata": {
    "pycharm": {
     "name": "#%%\n"
    }
   },
   "outputs": [],
   "source": [
    "import numpy as np\n",
    "import time\n",
    "i=1\n",
    "lista_nomes = []\n",
    "lista_marcas = []\n",
    "lista_anos = []\n",
    "lista_tipo = []\n",
    "lista_precos = []\n",
    "lista_kilometragem = []\n",
    "\n",
    "while i<=16: #para cada subpagina\n",
    "    \n",
    "    url = 'https://vamosseminovos.com.br/estoque/page/{}/?filter_marca=volkswagen'.format(str(i))\n",
    "    driver.get(url)\n",
    "    time.sleep(5)\n",
    "\n",
    "    carros = driver.find_element(\"xpath\", \"/html/body/main/div/div/div/div[1]/div[2]\").text.split('SAIBA MAIS')\n",
    "\n",
    "    for j in carros:\n",
    "        carro = j.split('\\n')\n",
    "        if len(carro)==7:\n",
    "            lista_nomes.append(carro[0])\n",
    "            lista_tipo.append(carro[1])\n",
    "            lista_marcas.append(carro[2])\n",
    "            lista_anos.append(carro[4])\n",
    "            lista_precos.append(carro[5])\n",
    "            lista_kilometragem.append('Não fornecido')\n",
    "        elif len(carro)==9:\n",
    "            lista_nomes.append(carro[1])\n",
    "            lista_tipo.append(carro[2])\n",
    "            lista_marcas.append(carro[3])\n",
    "            lista_anos.append(carro[6])\n",
    "            lista_precos.append(carro[7])\n",
    "            lista_kilometragem.append(carro[5])\n",
    "    i+=1"
   ]
  },
  {
   "cell_type": "code",
   "execution_count": 15,
   "metadata": {
    "pycharm": {
     "name": "#%%\n"
    }
   },
   "outputs": [
    {
     "data": {
      "text/plain": "                                           Carro       Marca   Tipo  \\\n0    19-360 CONSTELLAT. TRACTOR (DIESEL)(E5) 4X2  VOLKSWAGEN  ATIVO   \n1                       25.360 CONSTELlATION 6X2  VOLKSWAGEN  ATIVO   \n2                            MPOLO VIAGGIO R 4×2  VOLKSWAGEN  ATIVO   \n3                             8.160 DELIVERY 4×2  VOLKSWAGEN  ATIVO   \n4                             8.160 DELIVERY 4×2  VOLKSWAGEN  ATIVO   \n..                                           ...         ...    ...   \n121                     25.420 CONSTELLATION 6X2  VOLKSWAGEN  ATIVO   \n122                     25.360 CONSTELlATION 6X2  VOLKSWAGEN  ATIVO   \n123                     25.420 CONSTELLATION 6X2  VOLKSWAGEN  ATIVO   \n124                     17.280 CONSTELLATION 4×2  VOLKSWAGEN  ATIVO   \n125                     25.420 CONSTELLATION 6X2  VOLKSWAGEN  ATIVO   \n\n           Ano         Preço Kilometragem  \n0    2020/2021  R$370.000,00       184114  \n1    2020/2021  R$380.000,00       121964  \n2    2013/2013  R$260.000,00       307386  \n3    2016/2016  R$170.000,00       147589  \n4    2015/2016  R$175.000,00       116266  \n..         ...           ...          ...  \n121  2018/2019  R$265.000,00       127117  \n122  2020/2021  R$380.000,00       150257  \n123  2019/2020  R$300.000,00       321302  \n124  2013/2013  R$180.000,00       257687  \n125  2019/2020  R$299.000,00       304812  \n\n[126 rows x 6 columns]",
      "text/html": "<div>\n<style scoped>\n    .dataframe tbody tr th:only-of-type {\n        vertical-align: middle;\n    }\n\n    .dataframe tbody tr th {\n        vertical-align: top;\n    }\n\n    .dataframe thead th {\n        text-align: right;\n    }\n</style>\n<table border=\"1\" class=\"dataframe\">\n  <thead>\n    <tr style=\"text-align: right;\">\n      <th></th>\n      <th>Carro</th>\n      <th>Marca</th>\n      <th>Tipo</th>\n      <th>Ano</th>\n      <th>Preço</th>\n      <th>Kilometragem</th>\n    </tr>\n  </thead>\n  <tbody>\n    <tr>\n      <th>0</th>\n      <td>19-360 CONSTELLAT. TRACTOR (DIESEL)(E5) 4X2</td>\n      <td>VOLKSWAGEN</td>\n      <td>ATIVO</td>\n      <td>2020/2021</td>\n      <td>R$370.000,00</td>\n      <td>184114</td>\n    </tr>\n    <tr>\n      <th>1</th>\n      <td>25.360 CONSTELlATION 6X2</td>\n      <td>VOLKSWAGEN</td>\n      <td>ATIVO</td>\n      <td>2020/2021</td>\n      <td>R$380.000,00</td>\n      <td>121964</td>\n    </tr>\n    <tr>\n      <th>2</th>\n      <td>MPOLO VIAGGIO R 4×2</td>\n      <td>VOLKSWAGEN</td>\n      <td>ATIVO</td>\n      <td>2013/2013</td>\n      <td>R$260.000,00</td>\n      <td>307386</td>\n    </tr>\n    <tr>\n      <th>3</th>\n      <td>8.160 DELIVERY 4×2</td>\n      <td>VOLKSWAGEN</td>\n      <td>ATIVO</td>\n      <td>2016/2016</td>\n      <td>R$170.000,00</td>\n      <td>147589</td>\n    </tr>\n    <tr>\n      <th>4</th>\n      <td>8.160 DELIVERY 4×2</td>\n      <td>VOLKSWAGEN</td>\n      <td>ATIVO</td>\n      <td>2015/2016</td>\n      <td>R$175.000,00</td>\n      <td>116266</td>\n    </tr>\n    <tr>\n      <th>...</th>\n      <td>...</td>\n      <td>...</td>\n      <td>...</td>\n      <td>...</td>\n      <td>...</td>\n      <td>...</td>\n    </tr>\n    <tr>\n      <th>121</th>\n      <td>25.420 CONSTELLATION 6X2</td>\n      <td>VOLKSWAGEN</td>\n      <td>ATIVO</td>\n      <td>2018/2019</td>\n      <td>R$265.000,00</td>\n      <td>127117</td>\n    </tr>\n    <tr>\n      <th>122</th>\n      <td>25.360 CONSTELlATION 6X2</td>\n      <td>VOLKSWAGEN</td>\n      <td>ATIVO</td>\n      <td>2020/2021</td>\n      <td>R$380.000,00</td>\n      <td>150257</td>\n    </tr>\n    <tr>\n      <th>123</th>\n      <td>25.420 CONSTELLATION 6X2</td>\n      <td>VOLKSWAGEN</td>\n      <td>ATIVO</td>\n      <td>2019/2020</td>\n      <td>R$300.000,00</td>\n      <td>321302</td>\n    </tr>\n    <tr>\n      <th>124</th>\n      <td>17.280 CONSTELLATION 4×2</td>\n      <td>VOLKSWAGEN</td>\n      <td>ATIVO</td>\n      <td>2013/2013</td>\n      <td>R$180.000,00</td>\n      <td>257687</td>\n    </tr>\n    <tr>\n      <th>125</th>\n      <td>25.420 CONSTELLATION 6X2</td>\n      <td>VOLKSWAGEN</td>\n      <td>ATIVO</td>\n      <td>2019/2020</td>\n      <td>R$299.000,00</td>\n      <td>304812</td>\n    </tr>\n  </tbody>\n</table>\n<p>126 rows × 6 columns</p>\n</div>"
     },
     "execution_count": 15,
     "metadata": {},
     "output_type": "execute_result"
    }
   ],
   "source": [
    "import pandas as pd\n",
    "df = pd.DataFrame({'Carro': lista_nomes,\n",
    "                   'Marca': lista_marcas,\n",
    "                   'Tipo': lista_tipo,\n",
    "                   'Ano': lista_anos,\n",
    "                   'Preço': lista_precos,\n",
    "                   'Kilometragem': lista_kilometragem\n",
    "                  })\n",
    "\n",
    "\n",
    "df"
   ]
  },
  {
   "cell_type": "code",
   "execution_count": 16,
   "metadata": {
    "pycharm": {
     "name": "#%%\n"
    }
   },
   "outputs": [],
   "source": [
    "df.to_excel(r'C:\\Users\\Vitor\\Challenge - Dados\\Volkswagen_Vamos_19-10.xlsx', index = False)"
   ]
  },
  {
   "cell_type": "code",
   "execution_count": 16,
   "metadata": {
    "pycharm": {
     "name": "#%%\n"
    }
   },
   "outputs": [],
   "source": []
  }
 ],
 "metadata": {
  "kernelspec": {
   "display_name": "Python 3",
   "language": "python",
   "name": "python3"
  },
  "language_info": {
   "codemirror_mode": {
    "name": "ipython",
    "version": 3
   },
   "file_extension": ".py",
   "mimetype": "text/x-python",
   "name": "python",
   "nbconvert_exporter": "python",
   "pygments_lexer": "ipython3",
   "version": "3.7.4"
  }
 },
 "nbformat": 4,
 "nbformat_minor": 2
}